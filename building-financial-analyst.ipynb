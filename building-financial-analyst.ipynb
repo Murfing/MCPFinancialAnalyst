{
 "cells": [
  {
   "cell_type": "code",
   "execution_count": 1,
   "metadata": {},
   "outputs": [],
   "source": [
    "#%pip install yfinance crewai crewai-tools"
   ]
  },
  {
   "cell_type": "code",
   "execution_count": 2,
   "metadata": {},
   "outputs": [],
   "source": [
    "#%pip install docker"
   ]
  },
  {
   "cell_type": "code",
   "execution_count": 3,
   "metadata": {},
   "outputs": [],
   "source": [
    "import re\n",
    "import json\n",
    "import os\n",
    "import yfinance as yf\n",
    "from crewai import Agent, Task, Crew, Process, LLM\n",
    "from crewai_tools import CodeInterpreterTool, FileReadTool"
   ]
  },
  {
   "cell_type": "code",
   "execution_count": 4,
   "metadata": {},
   "outputs": [],
   "source": [
    "from pydantic import BaseModel, Field\n",
    "\n",
    "class QueryAnalysisOutput(BaseModel):\n",
    "    \"\"\"Structured output for the query analysis task.\"\"\"\n",
    "    symbol: str = Field(..., description=\"Stock ticker symbol (e.g., TSLA, AAPL).\")\n",
    "    timeframe: str = Field(..., description=\"Time period (e.g., '1d', '1mo', '1y').\")\n",
    "    action: str = Field(..., description=\"Action to be performed (e.g., 'fetch', 'plot').\")"
   ]
  },
  {
   "cell_type": "code",
   "execution_count": 13,
   "metadata": {},
   "outputs": [],
   "source": [
    "llm = LLM(\n",
    "    model=\"ollama/deepseek-r1:1.5b\",\n",
    "    base_url=\"http://localhost:11434\",\n",
    "    # temperature=0.7\n",
    ")"
   ]
  },
  {
   "cell_type": "code",
   "execution_count": 14,
   "metadata": {},
   "outputs": [
    {
     "name": "stdout",
     "output_type": "stream",
     "text": [
      "Docker daemon ping successful!\n"
     ]
    }
   ],
   "source": [
    "import docker\n",
    "try:\n",
    "    client = docker.from_env()\n",
    "    client.ping()\n",
    "    print(\"Docker daemon ping successful!\")\n",
    "except Exception as e:\n",
    "    print(f\"Error pinging Docker daemon: {e}\")"
   ]
  },
  {
   "cell_type": "code",
   "execution_count": 15,
   "metadata": {},
   "outputs": [
    {
     "name": "stdout",
     "output_type": "stream",
     "text": [
      "Docker version 28.1.1, build 4eba377\n"
     ]
    }
   ],
   "source": [
    "!docker --version"
   ]
  },
  {
   "cell_type": "code",
   "execution_count": 16,
   "metadata": {},
   "outputs": [],
   "source": [
    "# 1) Query parser agent\n",
    "query_parser_agent = Agent(\n",
    "    role=\"Stock Data Analyst\",\n",
    "    goal=\"Extract stock details and fetch required data from this user query: {query}.\",\n",
    "    backstory=\"You are a financial analyst specializing in stock market data retrieval.\",\n",
    "    llm=llm,\n",
    "    verbose=True,\n",
    "    memory=True,\n",
    ")\n",
    "\n",
    "query_parsing_task = Task(\n",
    "    description=\"Analyze the user query and extract stock details.\",\n",
    "    expected_output=\"A dictionary with keys: 'symbol', 'timeframe', 'action'.\",\n",
    "    output_pydantic=QueryAnalysisOutput,\n",
    "    agent=query_parser_agent,\n",
    ")\n",
    "\n",
    "# 2) Code writer agent\n",
    "code_writer_agent = Agent(\n",
    "    role=\"Senior Python Developer\",\n",
    "    goal=\"Write Python code to visualize stock data.\",\n",
    "    backstory=\"\"\"You are a Senior Python developer specializing in stock market data visualization. \n",
    "                 You are also a Pandas, Matplotlib and yfinance library expert.\n",
    "                 You are skilled at writing production-ready Python code\"\"\",\n",
    "    llm=llm,\n",
    "    verbose=True,\n",
    ")\n",
    "\n",
    "code_writer_task = Task(\n",
    "    description=\"\"\"Write Python code to visualize stock data based on the inputs from the stock analyst\n",
    "                   where you would find stock symbol, timeframe and action.\"\"\",\n",
    "    expected_output=\"A clean and executable Python script file (.py) for stock visualization.\",\n",
    "    agent=code_writer_agent,\n",
    ")\n",
    "\n",
    "# 3) Code interpreter agent (uses code interpreter tool from crewai)\n",
    "code_interpreter_tool = CodeInterpreterTool()\n",
    "\n",
    "code_execution_agent = Agent(\n",
    "    role=\"Senior Code Execution Expert\",\n",
    "    goal=\"Review and execute the generated Python code by code writer agent to visualize stock data.\",\n",
    "    backstory=\"You are a code execution expert. You are skilled at executing Python code.\",\n",
    "    # tools=[code_interpreter_tool],\n",
    "    allow_code_execution=True,   # This automatically adds the CodeInterpreterTool\n",
    "    llm=llm,\n",
    "    verbose=True,\n",
    ")\n",
    "\n",
    "code_execution_task = Task(\n",
    "    description=\"\"\"Review and execute the generated Python code by code writer agent to visualize stock data.\"\"\",\n",
    "    expected_output=\"A clean and executable Python script file (.py) for stock visualization.\",\n",
    "    agent=code_execution_agent,\n",
    ")"
   ]
  },
  {
   "cell_type": "code",
   "execution_count": 17,
   "metadata": {},
   "outputs": [
    {
     "name": "stdout",
     "output_type": "stream",
     "text": [
      "\u001b[1m\u001b[95m# Agent:\u001b[00m \u001b[1m\u001b[92mStock Data Analyst\u001b[00m\n",
      "\u001b[95m## Task:\u001b[00m \u001b[92mAnalyze the user query and extract stock details.\u001b[00m\n",
      "\n",
      "\n",
      "\u001b[1m\u001b[95m# Agent:\u001b[00m \u001b[1m\u001b[92mStock Data Analyst\u001b[00m\n",
      "\u001b[95m## Final Answer:\u001b[00m \u001b[92m\n",
      "<think>\n",
      "Okay, so I need to figure out what information is being requested here. The user provided a query: \"Plot YTD stock gain of Tesla.\" And my task is to extract stock details and fetch required data from this user query.\n",
      "\n",
      "First, let me understand the components needed in the dictionary. The keys are 'symbol', 'timeframe', and 'action'. So I need to identify which parts correspond to each key.\n",
      "\n",
      "Looking at the query: \"Plot YTD stock gain of Tesla.\" The main elements here are the company name (Tesla), the timeframe (\"YTD\"), and the action is about plotting or visualizing the stock gain.\n",
      "\n",
      "Now, for the 'symbol', it's straightforward. The stock symbol is the abbreviation that represents a specific stock. For Tesla, I recall the symbol is \"TSLA\".\n",
      "\n",
      "For the timeframe, the user specified YTD, which stands for Year-to-Date. So the timeframe key should be \"YTD\".\n",
      "\n",
      "The action part in the query is about plotting the data, so it's likely something related to generating a visualization or output of the stock performance.\n",
      "\n",
      "Putting this together, I can structure the dictionary accordingly.\n",
      "</think>\n",
      "\n",
      "To address the user's task and extract the required information from their query:\n",
      "\n",
      "1. **Symbol**: The stock symbol for Tesla is **TSLA**.\n",
      "2. **Timeframe**: The timeframe specified in the query is **YTD**, meaning Year-to-Date.\n",
      "3. **Action**: The action is to \"Plot YTD stock gain of Tesla.\"\n",
      "\n",
      "This approach ensures that each component of the dictionary accurately reflects the user's request and the content derived from their query.\n",
      "\n",
      "```json\n",
      "{\n",
      "  \"symbol\": \"TSLA\",\n",
      "  \"timeframe\": \"YTD\",\n",
      "  \"action\": \"Plot YTD stock gain of Tesla\"\n",
      "}\n",
      "```\u001b[00m\n",
      "\n",
      "\n",
      "\u001b[1m\u001b[95m# Agent:\u001b[00m \u001b[1m\u001b[92mSenior Python Developer\u001b[00m\n",
      "\u001b[95m## Task:\u001b[00m \u001b[92mWrite Python code to visualize stock data based on the inputs from the stock analyst\n",
      "                   where you would find stock symbol, timeframe and action.\u001b[00m\n",
      "\n",
      "\n",
      "\u001b[1m\u001b[95m# Agent:\u001b[00m \u001b[1m\u001b[92mSenior Python Developer\u001b[00m\n",
      "\u001b[95m## Final Answer:\u001b[00m \u001b[92m\n",
      "<think>\n",
      "Alright, I need to figure out how to help visualize stock data for Tesla. Let me break down each component step by step.\n",
      "\n",
      "First, **symbol** is the abbreviation for Tesla's stock. From my knowledge, Tesla uses **TSLA** as its ticker symbol.\n",
      "\n",
      "Next, **timeframe** is specified in the user's query as \"YTD,\" which stands for Year-to-Date. So, I'll set that to reflect the data up until today.\n",
      "\n",
      "The **action** part says the user wants a visualization of the stock gain during YTD. This means they want to see how Tesla's stock performed from the start of the year to now.\n",
      "\n",
      "Putting it all together, I can construct the dictionary as follows:\n",
      "\n",
      "{\n",
      "  \"symbol\": \"TSLA\",\n",
      "  \"timeframe\": \"YTD\",\n",
      "  \"action\": \"Plot YTD stock gain of Tesla\"\n",
      "}\n",
      "\n",
      "This structure provides all necessary information for further processing or visualization. The 'symbol' and 'timeframe' keys are crucial for any API requests, while the 'action' key indicates what kind of output is expected.\n",
      "\n",
      "Now that I have this dictionary set up, I can proceed to fetch the historical stock data using an appropriate API endpoint, which will then generate the visualization based on the provided action.\n",
      "</think>\n",
      "\n",
      "To visualize Tesla's stock performance during the YTD period, here is a structured approach and associated Python code:\n",
      "\n",
      "```python\n",
      "{\n",
      "  \"symbol\": \"TSLA\",\n",
      "  \"timeframe\": \"YTD\", \n",
      "  \"action\": \"Plot YTD stock gain of Tesla\"\n",
      "}\n",
      "```\n",
      "\n",
      "This structure encapsulates all necessary information for visualization. The 'symbol' (TSLA) is the ticker, 'timeframe' (YTD) is specified, and 'action' indicates plotting the data.\n",
      "\n",
      "```python\n",
      "{\n",
      "  \"symbol\": \"TSLA\",\n",
      "  \"timeframe\": \"YTD\", \n",
      "  \"action\": \"Plot YTD stock gain of Tesla\"\n",
      "}\n",
      "```\n",
      "\n",
      "This dictionary sets up the parameters for generating a visualization of Tesla's stock performance during the past year, ready for further processing or data fetching.\u001b[00m\n",
      "\n",
      "\n",
      "\u001b[1m\u001b[95m# Agent:\u001b[00m \u001b[1m\u001b[92mSenior Code Execution Expert\u001b[00m\n",
      "\u001b[95m## Task:\u001b[00m \u001b[92mReview and execute the generated Python code by code writer agent to visualize stock data.\u001b[00m\n",
      "\n",
      "\n",
      "\u001b[1m\u001b[95m# Agent:\u001b[00m \u001b[1m\u001b[92mSenior Code Execution Expert\u001b[00m\n",
      "\u001b[95m## Final Answer:\u001b[00m \u001b[92m\n",
      "<think>\n",
      "Alright, let me figure out how to extract the necessary information from the user's query regarding Tesla stock visualization. The task at hand is to analyze and visualize Tesla's stock performance over a year-end period.\n",
      "\n",
      "First, **symbol** refers to the company abbreviation for Tesla, which I recall is **TSLA**.\n",
      "\n",
      "Next, **timeframe** specifies \"YTD,\" meaning Year-to-Date data. So, this timeframe will cover all transactions completed up until today.\n",
      "\n",
      "The action here is to plot YTD stock gain of Tesla. This means generating a visualization that shows how Tesla's stock performed from the start of the year to now.\n",
      "\n",
      "I need to ensure that each key in the dictionary accurately reflects these components:\n",
      "\n",
      "- **symbol**: TSLA\n",
      "- **timeframe**: YTD\n",
      "- **action**: Plot YTD stock gain of Tesla\n",
      "\n",
      "Once this structure is set up, I can proceed with fetching historical data for Tesla using an appropriate API endpoint. This will provide the necessary data to generate the visualization as per the user's request.\n",
      "\n",
      "Now that I have all the information in place and the dictionary structured correctly, I'll move forward with executing the code that fetches the required data and visualizes it accordingly.\n",
      "</think>\n",
      "\n",
      "```python\n",
      "{\n",
      "  \"symbol\": \"TSLA\",\n",
      "  \"timeframe\": \"YTD\", \n",
      "  \"action\": \"Plot YTD stock gain of Tesla\"\n",
      "}\n",
      "```\u001b[00m\n",
      "\n",
      "\n"
     ]
    }
   ],
   "source": [
    "### --- CREW SETUP --- ###\n",
    "\n",
    "crew = Crew(\n",
    "    agents=[query_parser_agent, code_writer_agent, code_execution_agent],\n",
    "    tasks=[query_parsing_task, code_writer_task, code_execution_task],\n",
    "    process=Process.sequential\n",
    ")\n",
    "\n",
    "# Run the crew with an example query\n",
    "result = crew.kickoff(inputs={\"query\": \"Plot YTD stock gain of Tesla\"})"
   ]
  }
 ],
 "metadata": {
  "kernelspec": {
   "display_name": "Python 3",
   "language": "python",
   "name": "python3"
  },
  "language_info": {
   "codemirror_mode": {
    "name": "ipython",
    "version": 3
   },
   "file_extension": ".py",
   "mimetype": "text/x-python",
   "name": "python",
   "nbconvert_exporter": "python",
   "pygments_lexer": "ipython3",
   "version": "3.11.1"
  }
 },
 "nbformat": 4,
 "nbformat_minor": 2
}
